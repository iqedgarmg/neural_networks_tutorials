{
 "cells": [
  {
   "cell_type": "markdown",
   "metadata": {
    "id": "Z0dw0cD8yZQ2"
   },
   "source": [
    "# Ejemplo 1: Modelos de regresión"
   ]
  },
  {
   "cell_type": "code",
   "execution_count": null,
   "metadata": {
    "colab": {
     "base_uri": "https://localhost:8080/"
    },
    "executionInfo": {
     "elapsed": 24237,
     "status": "ok",
     "timestamp": 1697159761678,
     "user": {
      "displayName": "Edgar Macias Garcia",
      "userId": "13718027517977154886"
     },
     "user_tz": 360
    },
    "id": "SxspN-RkzG2O",
    "outputId": "f624be94-30e5-41e7-b1dd-705dd6d9b261"
   },
   "outputs": [],
   "source": [
    "#Importar google drive\n",
    "from google.colab import drive\n",
    "\n",
    "#Montar google drive\n",
    "drive.mount('/content/gdrive')"
   ]
  },
  {
   "cell_type": "code",
   "execution_count": null,
   "metadata": {
    "executionInfo": {
     "elapsed": 251,
     "status": "ok",
     "timestamp": 1697159765142,
     "user": {
      "displayName": "Edgar Macias Garcia",
      "userId": "13718027517977154886"
     },
     "user_tz": 360
    },
    "id": "1DcPbeSUzvuE"
   },
   "outputs": [],
   "source": [
    "#Cambiar directorio default de python\n",
    "import os\n",
    "os.chdir(\"\")"
   ]
  },
  {
   "cell_type": "code",
   "execution_count": null,
   "metadata": {
    "colab": {
     "base_uri": "https://localhost:8080/"
    },
    "executionInfo": {
     "elapsed": 228,
     "status": "ok",
     "timestamp": 1697159766937,
     "user": {
      "displayName": "Edgar Macias Garcia",
      "userId": "13718027517977154886"
     },
     "user_tz": 360
    },
    "id": "Te4ItD_p0doL",
    "outputId": "7e12f16d-8047-4f91-fc48-283cc850c272"
   },
   "outputs": [],
   "source": [
    "#Ver contenido de la carpeta\n",
    "!ls"
   ]
  },
  {
   "cell_type": "markdown",
   "metadata": {
    "id": "rgQLV12DyZQ4"
   },
   "source": [
    "Importar librerías básicas"
   ]
  },
  {
   "cell_type": "code",
   "execution_count": 4,
   "metadata": {
    "executionInfo": {
     "elapsed": 221,
     "status": "ok",
     "timestamp": 1697159773397,
     "user": {
      "displayName": "Edgar Macias Garcia",
      "userId": "13718027517977154886"
     },
     "user_tz": 360
    },
    "id": "iScyiPc3yZQ5"
   },
   "outputs": [],
   "source": [
    "#Importar librerias\n",
    "import numpy as np\n",
    "import matplotlib.pyplot as plt\n",
    "import scipy.io"
   ]
  },
  {
   "cell_type": "markdown",
   "metadata": {
    "id": "nGdhE6e9yZQ6"
   },
   "source": [
    "## Problema 1: Modelo Lineal"
   ]
  },
  {
   "cell_type": "markdown",
   "metadata": {
    "id": "KsfLww6MyZQ6"
   },
   "source": [
    "### 1.- Procesamiento de los datos"
   ]
  },
  {
   "cell_type": "code",
   "execution_count": null,
   "metadata": {
    "colab": {
     "base_uri": "https://localhost:8080/",
     "height": 448
    },
    "executionInfo": {
     "elapsed": 831,
     "status": "ok",
     "timestamp": 1697159776551,
     "user": {
      "displayName": "Edgar Macias Garcia",
      "userId": "13718027517977154886"
     },
     "user_tz": 360
    },
    "id": "m44WQwEKyZQ7",
    "outputId": "281fa54f-0308-4598-ebfd-60634c53a0de"
   },
   "outputs": [],
   "source": [
    "#Cargar datos\n",
    "data = scipy.io.loadmat('datos/data_1.mat')\n",
    "\n",
    "#Extraer valores\n",
    "x = data['x']\n",
    "y = data['y']\n",
    "\n",
    "#Imprimir valores\n",
    "plt.plot(x, y, '*', color='red')"
   ]
  },
  {
   "cell_type": "markdown",
   "metadata": {
    "id": "EnokFJBFyZQ8"
   },
   "source": [
    "### 2.- Definición del modelo"
   ]
  },
  {
   "cell_type": "code",
   "execution_count": null,
   "metadata": {},
   "outputs": [],
   "source": [
    "#Error cuadratico medio\n",
    "def emc(ym, yd):\n",
    "\n",
    "    pass"
   ]
  },
  {
   "cell_type": "code",
   "execution_count": null,
   "metadata": {
    "executionInfo": {
     "elapsed": 251,
     "status": "ok",
     "timestamp": 1697159789466,
     "user": {
      "displayName": "Edgar Macias Garcia",
      "userId": "13718027517977154886"
     },
     "user_tz": 360
    },
    "id": "3il64_EtyZQ8"
   },
   "outputs": [],
   "source": [
    "class modelo_lineal():\n",
    "\n",
    "  #Constructor\n",
    "  def __init__(self, a, b):\n",
    "\n",
    "    pass\n",
    "\n",
    "  #Metodo de procesamiento\n",
    "  def forward(self, x):\n",
    "\n",
    "    pass\n",
    "\n",
    "  #Entrenamiento del modelo (x = entrada, y=salida, Lr=tasa, epoch=epocas de entrenamiento)\n",
    "  def train(self, x, yd, Lr, epoch):\n",
    "\n",
    "    pass"
   ]
  },
  {
   "cell_type": "code",
   "execution_count": null,
   "metadata": {
    "executionInfo": {
     "elapsed": 6,
     "status": "ok",
     "timestamp": 1697159842363,
     "user": {
      "displayName": "Edgar Macias Garcia",
      "userId": "13718027517977154886"
     },
     "user_tz": 360
    },
    "id": "6xDAddb53LiG"
   },
   "outputs": [],
   "source": []
  },
  {
   "cell_type": "markdown",
   "metadata": {
    "id": "SwfvQlgvyZQ9"
   },
   "source": [
    "### 3.- Entrenamiento del modelo"
   ]
  },
  {
   "cell_type": "code",
   "execution_count": null,
   "metadata": {
    "colab": {
     "base_uri": "https://localhost:8080/",
     "height": 250
    },
    "executionInfo": {
     "elapsed": 300,
     "status": "ok",
     "timestamp": 1697159846340,
     "user": {
      "displayName": "Edgar Macias Garcia",
      "userId": "13718027517977154886"
     },
     "user_tz": 360
    },
    "id": "3BrUOZNzssY6",
    "outputId": "165a8951-e751-448d-a740-54f1a5335fba"
   },
   "outputs": [],
   "source": []
  },
  {
   "cell_type": "code",
   "execution_count": null,
   "metadata": {
    "id": "LeTuZ6xAyZQ-"
   },
   "outputs": [],
   "source": []
  },
  {
   "cell_type": "markdown",
   "metadata": {
    "id": "vUCsUGbIyZQ_"
   },
   "source": [
    "### 4.- Evaluación del modelo"
   ]
  },
  {
   "cell_type": "code",
   "execution_count": null,
   "metadata": {
    "colab": {
     "base_uri": "https://localhost:8080/",
     "height": 250
    },
    "executionInfo": {
     "elapsed": 566,
     "status": "ok",
     "timestamp": 1697159855810,
     "user": {
      "displayName": "Edgar Macias Garcia",
      "userId": "13718027517977154886"
     },
     "user_tz": 360
    },
    "id": "1LuoVKgtyZQ_",
    "outputId": "b8ed8dd4-06b3-47cf-8440-721d16b1ff84"
   },
   "outputs": [],
   "source": []
  },
  {
   "cell_type": "markdown",
   "metadata": {
    "id": "tJYo6-EqyZRA"
   },
   "source": [
    "## Problema 2: Modelo cuadrático"
   ]
  },
  {
   "cell_type": "markdown",
   "metadata": {
    "id": "9omGJ7fcyZRA"
   },
   "source": [
    "### 1.- Procesamiento de los datos"
   ]
  },
  {
   "cell_type": "code",
   "execution_count": null,
   "metadata": {
    "colab": {
     "base_uri": "https://localhost:8080/",
     "height": 430
    },
    "executionInfo": {
     "elapsed": 822,
     "status": "ok",
     "timestamp": 1697159862805,
     "user": {
      "displayName": "Edgar Macias Garcia",
      "userId": "13718027517977154886"
     },
     "user_tz": 360
    },
    "id": "Two4WucbyZRA",
    "outputId": "4e2d286c-ee8f-4506-aa57-1dc9ddd6f7ae"
   },
   "outputs": [],
   "source": [
    "#Cargar datos\n",
    "data = scipy.io.loadmat('datos/data_2.mat')\n",
    "\n",
    "#Extraer valores\n",
    "x = data['x']\n",
    "y = data['y']\n",
    "\n",
    "#Imprimir valores\n",
    "plt.plot(x, y, '*', color='red')"
   ]
  },
  {
   "cell_type": "markdown",
   "metadata": {
    "id": "48AvCfBfyZRB"
   },
   "source": [
    "### 2.- Definición del modelo"
   ]
  },
  {
   "cell_type": "code",
   "execution_count": null,
   "metadata": {
    "executionInfo": {
     "elapsed": 230,
     "status": "ok",
     "timestamp": 1697161808781,
     "user": {
      "displayName": "Edgar Macias Garcia",
      "userId": "13718027517977154886"
     },
     "user_tz": 360
    },
    "id": "HgzpA7yUyZRC"
   },
   "outputs": [],
   "source": [
    "class modelo_cuadratico():\n",
    "\n",
    "  #Constructor\n",
    "  def __init__(self, a, b, c):\n",
    "\n",
    "    pass\n",
    "\n",
    "  #Metodo de procesamiento\n",
    "  def forward(self, x):\n",
    "\n",
    "    pass\n",
    "\n",
    "  #Metodo de entrenamiento\n",
    "  def train(self, x, yd, Lr, epoch):\n",
    "\n",
    "    pass"
   ]
  },
  {
   "cell_type": "markdown",
   "metadata": {
    "id": "CAXAEXV7yZRC"
   },
   "source": [
    "### 3.- Entrenamiento del modelo"
   ]
  },
  {
   "cell_type": "code",
   "execution_count": null,
   "metadata": {
    "executionInfo": {
     "elapsed": 285,
     "status": "ok",
     "timestamp": 1697162269245,
     "user": {
      "displayName": "Edgar Macias Garcia",
      "userId": "13718027517977154886"
     },
     "user_tz": 360
    },
    "id": "2eC97dQ4yZRC"
   },
   "outputs": [],
   "source": []
  },
  {
   "cell_type": "code",
   "execution_count": null,
   "metadata": {
    "colab": {
     "base_uri": "https://localhost:8080/"
    },
    "executionInfo": {
     "elapsed": 201,
     "status": "ok",
     "timestamp": 1697162221191,
     "user": {
      "displayName": "Edgar Macias Garcia",
      "userId": "13718027517977154886"
     },
     "user_tz": 360
    },
    "id": "Ba90GJUNv8l8",
    "outputId": "39cf0579-730a-42d7-d3be-fa3300b903d4"
   },
   "outputs": [],
   "source": []
  },
  {
   "cell_type": "code",
   "execution_count": null,
   "metadata": {
    "colab": {
     "base_uri": "https://localhost:8080/",
     "height": 214
    },
    "executionInfo": {
     "elapsed": 421,
     "status": "ok",
     "timestamp": 1697162273559,
     "user": {
      "displayName": "Edgar Macias Garcia",
      "userId": "13718027517977154886"
     },
     "user_tz": 360
    },
    "id": "hZDWJqXhtn7D",
    "outputId": "7c6f9180-b5de-4140-c4fa-98f1a3702ee9"
   },
   "outputs": [],
   "source": []
  },
  {
   "cell_type": "markdown",
   "metadata": {
    "id": "k5ErlUEsyZRC"
   },
   "source": [
    "### 4.- Evaluación del modelo"
   ]
  },
  {
   "cell_type": "code",
   "execution_count": null,
   "metadata": {
    "colab": {
     "base_uri": "https://localhost:8080/",
     "height": 404
    },
    "executionInfo": {
     "elapsed": 534,
     "status": "ok",
     "timestamp": 1697162774439,
     "user": {
      "displayName": "Edgar Macias Garcia",
      "userId": "13718027517977154886"
     },
     "user_tz": 360
    },
    "id": "DusJebIoyZRC",
    "outputId": "eab88ffa-3bdd-4aaa-bb47-c97e4588be67"
   },
   "outputs": [],
   "source": []
  },
  {
   "cell_type": "markdown",
   "metadata": {
    "id": "tlLt8pjayZRD"
   },
   "source": [
    "## Problema 3: Modelo cúbico"
   ]
  },
  {
   "cell_type": "markdown",
   "metadata": {
    "id": "Eh23TvR8yZRD"
   },
   "source": [
    "### 1.- Procesamiento de los datos"
   ]
  },
  {
   "cell_type": "code",
   "execution_count": null,
   "metadata": {
    "colab": {
     "base_uri": "https://localhost:8080/",
     "height": 430
    },
    "executionInfo": {
     "elapsed": 565,
     "status": "ok",
     "timestamp": 1697163524269,
     "user": {
      "displayName": "Edgar Macias Garcia",
      "userId": "13718027517977154886"
     },
     "user_tz": 360
    },
    "id": "w51eJAmbyZRE",
    "outputId": "e4029264-16ee-4059-82aa-aab4d7d027ba"
   },
   "outputs": [],
   "source": [
    "#Cargar datos\n",
    "data = scipy.io.loadmat('datos/data_3.mat')\n",
    "\n",
    "#Extraer valores\n",
    "x = data['x']\n",
    "y = data['y']\n",
    "\n",
    "#Imprimir valores\n",
    "plt.plot(x, y, '*', color='red')"
   ]
  },
  {
   "cell_type": "markdown",
   "metadata": {
    "id": "xc3kqDcRyZRE"
   },
   "source": [
    "### 2.- Definición del modelo"
   ]
  },
  {
   "cell_type": "code",
   "execution_count": null,
   "metadata": {
    "executionInfo": {
     "elapsed": 243,
     "status": "ok",
     "timestamp": 1697164989872,
     "user": {
      "displayName": "Edgar Macias Garcia",
      "userId": "13718027517977154886"
     },
     "user_tz": 360
    },
    "id": "DMlUdwdUyZRE"
   },
   "outputs": [],
   "source": [
    "class modelo_cubico():\n",
    "\n",
    "  #Constructor\n",
    "  def __init__(self, a, b, c, d):\n",
    "\n",
    "    pass\n",
    "\n",
    "  #Metodo de procesamiento\n",
    "  def forward(self, x):\n",
    "\n",
    "    pass\n",
    "\n",
    "  #Metodo de entrenamiento\n",
    "  def train(self, x, yd, Lr, epoch):\n",
    "\n",
    "    pass"
   ]
  },
  {
   "cell_type": "markdown",
   "metadata": {
    "id": "uw65OOkoyZRF"
   },
   "source": [
    "### 3.- Entrenamiento del modelo"
   ]
  },
  {
   "cell_type": "code",
   "execution_count": null,
   "metadata": {
    "executionInfo": {
     "elapsed": 204,
     "status": "ok",
     "timestamp": 1697165501937,
     "user": {
      "displayName": "Edgar Macias Garcia",
      "userId": "13718027517977154886"
     },
     "user_tz": 360
    },
    "id": "3XfX-ocLyZRF"
   },
   "outputs": [],
   "source": []
  },
  {
   "cell_type": "code",
   "execution_count": null,
   "metadata": {
    "colab": {
     "base_uri": "https://localhost:8080/",
     "height": 214
    },
    "executionInfo": {
     "elapsed": 696,
     "status": "ok",
     "timestamp": 1697165515475,
     "user": {
      "displayName": "Edgar Macias Garcia",
      "userId": "13718027517977154886"
     },
     "user_tz": 360
    },
    "id": "9hfqWPxa6qwW",
    "outputId": "7e83ea57-d1dd-4579-bdfa-62662e47eee0"
   },
   "outputs": [],
   "source": []
  },
  {
   "cell_type": "code",
   "execution_count": null,
   "metadata": {
    "colab": {
     "base_uri": "https://localhost:8080/"
    },
    "executionInfo": {
     "elapsed": 6,
     "status": "ok",
     "timestamp": 1697165616018,
     "user": {
      "displayName": "Edgar Macias Garcia",
      "userId": "13718027517977154886"
     },
     "user_tz": 360
    },
    "id": "qeoqFAAF83JP",
    "outputId": "19eeebf7-d5da-41b9-96a4-ae3a061dd8a5"
   },
   "outputs": [],
   "source": []
  },
  {
   "cell_type": "markdown",
   "metadata": {
    "id": "TrfQPNEdyZRF"
   },
   "source": [
    "### 4.- Evaluación del modelo"
   ]
  },
  {
   "cell_type": "code",
   "execution_count": null,
   "metadata": {
    "colab": {
     "base_uri": "https://localhost:8080/",
     "height": 404
    },
    "executionInfo": {
     "elapsed": 649,
     "status": "ok",
     "timestamp": 1697165524824,
     "user": {
      "displayName": "Edgar Macias Garcia",
      "userId": "13718027517977154886"
     },
     "user_tz": 360
    },
    "id": "63H1Tol-yZRF",
    "outputId": "eee71d6f-810b-4ba0-9cc6-d72c5fd20864"
   },
   "outputs": [],
   "source": []
  },
  {
   "cell_type": "code",
   "execution_count": null,
   "metadata": {
    "id": "DOJYfhdxyZRF"
   },
   "outputs": [],
   "source": []
  }
 ],
 "metadata": {
  "colab": {
   "provenance": []
  },
  "kernelspec": {
   "display_name": "Python 3 (ipykernel)",
   "language": "python",
   "name": "python3"
  },
  "language_info": {
   "codemirror_mode": {
    "name": "ipython",
    "version": 3
   },
   "file_extension": ".py",
   "mimetype": "text/x-python",
   "name": "python",
   "nbconvert_exporter": "python",
   "pygments_lexer": "ipython3",
   "version": "3.8.10"
  }
 },
 "nbformat": 4,
 "nbformat_minor": 0
}
