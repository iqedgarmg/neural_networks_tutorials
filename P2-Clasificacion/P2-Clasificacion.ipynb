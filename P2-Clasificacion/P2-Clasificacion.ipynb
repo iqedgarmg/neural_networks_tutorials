{
 "cells": [
  {
   "cell_type": "markdown",
   "metadata": {
    "id": "L1ooUvROpkFW"
   },
   "source": [
    "# Unidad 2: Modelos de clasificación"
   ]
  },
  {
   "cell_type": "markdown",
   "metadata": {
    "id": "wKT5gPf2pkFc"
   },
   "source": [
    "Importar librerias básicas"
   ]
  },
  {
   "cell_type": "code",
   "execution_count": null,
   "metadata": {
    "colab": {
     "base_uri": "https://localhost:8080/"
    },
    "executionInfo": {
     "elapsed": 21771,
     "status": "ok",
     "timestamp": 1730251114376,
     "user": {
      "displayName": "Edgar Macias Garcia",
      "userId": "13718027517977154886"
     },
     "user_tz": 360
    },
    "id": "vLM1efdTpmz5",
    "outputId": "f38cf1c9-42b2-489c-fb67-ebad4bae6a82"
   },
   "outputs": [],
   "source": [
    "#Importar google drive\n",
    "from google.colab import drive\n",
    "\n",
    "#Montar google drive\n",
    "drive.mount('/content/gdrive')"
   ]
  },
  {
   "cell_type": "code",
   "execution_count": null,
   "metadata": {
    "executionInfo": {
     "elapsed": 1080,
     "status": "ok",
     "timestamp": 1730253482501,
     "user": {
      "displayName": "Edgar Macias Garcia",
      "userId": "13718027517977154886"
     },
     "user_tz": 360
    },
    "id": "fPmr67IIptrx"
   },
   "outputs": [],
   "source": [
    "#Cambiar directorio default de python\n",
    "import os\n",
    "os.chdir(\"\")"
   ]
  },
  {
   "cell_type": "code",
   "execution_count": null,
   "metadata": {
    "executionInfo": {
     "elapsed": 336,
     "status": "ok",
     "timestamp": 1730253484818,
     "user": {
      "displayName": "Edgar Macias Garcia",
      "userId": "13718027517977154886"
     },
     "user_tz": 360
    },
    "id": "94mmKYcWpkFd"
   },
   "outputs": [],
   "source": [
    "#Utilidades numéricas\n",
    "import numpy as np\n",
    "\n",
    "#Utilidades gráficas\n",
    "import matplotlib.pyplot as plt\n",
    "from mpl_toolkits import mplot3d\n",
    "from mpl_toolkits.mplot3d import axes3d"
   ]
  },
  {
   "cell_type": "markdown",
   "metadata": {
    "id": "v5UHr0aypkFf"
   },
   "source": [
    "### 1.- Procesamiento de los datos"
   ]
  },
  {
   "cell_type": "code",
   "execution_count": null,
   "metadata": {
    "colab": {
     "base_uri": "https://localhost:8080/",
     "height": 385
    },
    "executionInfo": {
     "elapsed": 1403,
     "status": "ok",
     "timestamp": 1730253489480,
     "user": {
      "displayName": "Edgar Macias Garcia",
      "userId": "13718027517977154886"
     },
     "user_tz": 360
    },
    "id": "R8ARRYc1pkFg",
    "outputId": "8f543518-fdca-4785-96e9-edf783a49bfc"
   },
   "outputs": [],
   "source": [
    "#Cargar datos\n",
    "data = np.load(\"datos/clasificacion_p1.npy\")\n",
    "\n",
    "#Extraer informacion\n",
    "x = data[0:2, :]\n",
    "y = data[2, :]\n",
    "\n",
    "#Graficar informacion\n",
    "plt.figure(figsize=(4,4))\n",
    "plt.scatter(x[:, 0], x[:, 1], c=y, s=20, cmap=plt.cm.Spectral)\n",
    "plt.grid()\n",
    "plt.show()"
   ]
  },
  {
   "cell_type": "code",
   "execution_count": null,
   "metadata": {
    "colab": {
     "base_uri": "https://localhost:8080/"
    },
    "executionInfo": {
     "elapsed": 282,
     "status": "ok",
     "timestamp": 1730253517314,
     "user": {
      "displayName": "Edgar Macias Garcia",
      "userId": "13718027517977154886"
     },
     "user_tz": 360
    },
    "id": "g5BdM2MfqkwN",
    "outputId": "c8967ee4-a66f-4d40-aac6-b19bbf2f1467"
   },
   "outputs": [],
   "source": []
  },
  {
   "cell_type": "markdown",
   "metadata": {
    "id": "fcy83GbTpkFh"
   },
   "source": [
    "### 2.- Definicion del modelo"
   ]
  },
  {
   "cell_type": "code",
   "execution_count": null,
   "metadata": {
    "executionInfo": {
     "elapsed": 268,
     "status": "ok",
     "timestamp": 1730253525577,
     "user": {
      "displayName": "Edgar Macias Garcia",
      "userId": "13718027517977154886"
     },
     "user_tz": 360
    },
    "id": "oyhM-R3mpkFi"
   },
   "outputs": [],
   "source": [
    "#Funciones auxiliares\n",
    "\n",
    "#Funcion softmax\n",
    "def softmax(x):\n",
    "\n",
    "  pass\n",
    "\n",
    "#Entropia cruzada\n",
    "def cross_entropy(x):\n",
    "\n",
    "  pass"
   ]
  },
  {
   "cell_type": "code",
   "execution_count": null,
   "metadata": {
    "executionInfo": {
     "elapsed": 285,
     "status": "ok",
     "timestamp": 1730253545714,
     "user": {
      "displayName": "Edgar Macias Garcia",
      "userId": "13718027517977154886"
     },
     "user_tz": 360
    },
    "id": "n4Yya_RLpkFi"
   },
   "outputs": [],
   "source": [
    "#Crear clase de modelo de clasificacion\n",
    "class model:\n",
    "\n",
    "  #Definir constructor\n",
    "  def __init__(self, d, c):  #(d: dimension entrada, c: numero de clases)\n",
    "\n",
    "      pass\n",
    "\n",
    "  #Procesamiento del modelo\n",
    "  def forward(self, x):\n",
    "\n",
    "      pass\n",
    "\n",
    "  #Entrenamiento del modelo\n",
    "  def train(self, x, y, Lr, epoch):\n",
    "\n",
    "      pass"
   ]
  },
  {
   "cell_type": "markdown",
   "metadata": {
    "id": "ypw3mlLKpkFj"
   },
   "source": [
    "### 3.- Entrenamiento del modelo"
   ]
  },
  {
   "cell_type": "code",
   "execution_count": null,
   "metadata": {
    "executionInfo": {
     "elapsed": 265,
     "status": "ok",
     "timestamp": 1730253549606,
     "user": {
      "displayName": "Edgar Macias Garcia",
      "userId": "13718027517977154886"
     },
     "user_tz": 360
    },
    "id": "YP4dtec9pkFk"
   },
   "outputs": [],
   "source": []
  },
  {
   "cell_type": "code",
   "execution_count": null,
   "metadata": {
    "colab": {
     "base_uri": "https://localhost:8080/",
     "height": 586
    },
    "executionInfo": {
     "elapsed": 10995,
     "status": "ok",
     "timestamp": 1730253561757,
     "user": {
      "displayName": "Edgar Macias Garcia",
      "userId": "13718027517977154886"
     },
     "user_tz": 360
    },
    "id": "hS50ByFS8P8v",
    "outputId": "6b9c2894-5e2e-4fcb-90c0-56830a50129a"
   },
   "outputs": [],
   "source": []
  },
  {
   "cell_type": "markdown",
   "metadata": {
    "id": "iwAtbX-1pkFk"
   },
   "source": [
    "### 4.- Evaluación del modelo"
   ]
  },
  {
   "cell_type": "code",
   "execution_count": null,
   "metadata": {
    "colab": {
     "base_uri": "https://localhost:8080/",
     "height": 388
    },
    "executionInfo": {
     "elapsed": 668,
     "status": "ok",
     "timestamp": 1728623970609,
     "user": {
      "displayName": "Edgar Macias Garcia",
      "userId": "13718027517977154886"
     },
     "user_tz": 360
    },
    "id": "rgNqLuKqpkFl",
    "outputId": "92d345f3-ca69-4788-8180-12857d29e0e0",
    "scrolled": true
   },
   "outputs": [],
   "source": []
  },
  {
   "cell_type": "code",
   "execution_count": null,
   "metadata": {
    "colab": {
     "base_uri": "https://localhost:8080/",
     "height": 405
    },
    "executionInfo": {
     "elapsed": 410,
     "status": "ok",
     "timestamp": 1728623996493,
     "user": {
      "displayName": "Edgar Macias Garcia",
      "userId": "13718027517977154886"
     },
     "user_tz": 360
    },
    "id": "325yhyM2pkFl",
    "outputId": "63603f63-cf03-4cd2-85ad-155f63402051"
   },
   "outputs": [],
   "source": [
    "#Crear gradilla de datos\n",
    "x_val = np.zeros([2, 400])\n",
    "y_val = np.zeros(x_val.shape[1], dtype=int)\n",
    "for i in range(20):\n",
    "\n",
    "    x_val[0, i*20:(i+1)*20] = i/20.0\n",
    "    x_val[1, i*20:(i+1)*20] = np.linspace(0, 100, 20)/100.0\n",
    "\n",
    "#Evaluar modelo sobre gradilla\n",
    "y_scores = np.zeros([x_val.shape[1], 3])\n",
    "for i in range(x_val.shape[1]):\n",
    "\n",
    "  #Tomar elemento i de la entrada\n",
    "  x_in = np.reshape(x_val[:, i], (2,1))\n",
    "\n",
    "  #Someter modelo a entrada\n",
    "  ym_i = model.forward(x_in)\n",
    "\n",
    "  #Guardar prediccion del modelo\n",
    "  y_scores[i, :] = ym_i[:, 0]   #Guardar probabilidades\n",
    "  y_val[i] = np.argmax(ym_i) #Guardar prediccion de clase (salida mas alta)\n",
    "\n",
    "#Graficar resultados\n",
    "plt.figure(figsize=(4, 4))\n",
    "plt.scatter(x_val[0, :], x_val[1, :], c=y_val, s=100, cmap=plt.cm.Spectral)\n",
    "plt.scatter(x[:, 0], x[:, 1], c=y, s=20, cmap=plt.cm.Spectral, edgecolors='black')\n",
    "plt.show()"
   ]
  },
  {
   "cell_type": "code",
   "execution_count": null,
   "metadata": {
    "colab": {
     "base_uri": "https://localhost:8080/",
     "height": 562
    },
    "executionInfo": {
     "elapsed": 5742,
     "status": "ok",
     "timestamp": 1728624015441,
     "user": {
      "displayName": "Edgar Macias Garcia",
      "userId": "13718027517977154886"
     },
     "user_tz": 360
    },
    "id": "otoyt6qhpkFm",
    "outputId": "9ba89789-1d76-482f-9814-b00a45e76222"
   },
   "outputs": [],
   "source": [
    "#Importar plotly\n",
    "import plotly.graph_objects as pty\n",
    "\n",
    "#Graficar puntos de entrada (x)\n",
    "points = pty.Scatter3d(\n",
    "            x = (x[:, 0]),\n",
    "            y = (x[:, 1]),\n",
    "            z = (0.5*np.ones(y.shape)),\n",
    "            mode = 'markers',\n",
    "            marker = dict(size = 2, color = 'rgba(0, 0, 0, 0.6)', opacity=1.0)\n",
    "            )\n",
    "\n",
    "#Graficar hiperplano 1 (clase 0)\n",
    "plane_1 = pty.Mesh3d(\n",
    "            x = (x_val[0, :]),\n",
    "            y = (x_val[1, :]),\n",
    "            z = (y_scores[:, 0]), #(Puntajes de clase 0),\n",
    "            opacity=0.8, color='rgba(0, 0, 255, 0.8)'\n",
    "          )\n",
    "\n",
    "#Graficar hiperplano 2 (clase 1)\n",
    "plane_2 = pty.Mesh3d(\n",
    "            x = (x_val[0, :]),\n",
    "            y = (x_val[1, :]),\n",
    "            z = (y_scores[:, 1]), #(Puntajes de clase 0),\n",
    "            opacity=0.8, color='rgba(255, 0, 0, 0.8)'\n",
    "          )\n",
    "\n",
    "#Graficar hiperplano 3 (clase 2)\n",
    "plane_3 = pty.Mesh3d(\n",
    "            x = (x_val[0, :]),\n",
    "            y = (x_val[1, :]),\n",
    "            z = (y_scores[:, 2]), #(Puntajes de clase 0),\n",
    "            opacity=0.8, color='rgba(255, 255, 0, 0.8)'\n",
    "          )\n",
    "'''\n",
    "#Graficar hiperplano 4 (clase 3)\n",
    "plane_4 = pty.Mesh3d(\n",
    "            x = (x_val[0, :]),\n",
    "            y = (x_val[1, :]),\n",
    "            z = (y_scores[:, 3]), #(Puntajes de clase 0),\n",
    "            opacity=0.8, color='rgba(0, 255, 0, 0.8)'\n",
    "          )\n",
    "'''\n",
    "#Crear grafica\n",
    "fig1 = pty.Figure(data=[points, plane_1, plane_2, plane_3])#, , plane_4])\n",
    "fig1.show()"
   ]
  },
  {
   "cell_type": "markdown",
   "metadata": {
    "id": "0lOQMeVfklKh"
   },
   "source": [
    "Generate animation"
   ]
  },
  {
   "cell_type": "code",
   "execution_count": null,
   "metadata": {
    "colab": {
     "background_save": true,
     "base_uri": "https://localhost:8080/",
     "height": 1000,
     "output_embedded_package_id": "1GaNIvabJp46tKhdBlUtp-F3fo0_Y78JX"
    },
    "executionInfo": {
     "elapsed": 833550,
     "status": "ok",
     "timestamp": 1728624878366,
     "user": {
      "displayName": "Edgar Macias Garcia",
      "userId": "13718027517977154886"
     },
     "user_tz": 360
    },
    "id": "xSQXTIKHkit3",
    "outputId": "cc8bfa7b-b13b-411d-992d-d3c9683ee684"
   },
   "outputs": [],
   "source": []
  },
  {
   "cell_type": "code",
   "execution_count": null,
   "metadata": {
    "id": "GnuTj5hqlWEC"
   },
   "outputs": [],
   "source": []
  }
 ],
 "metadata": {
  "colab": {
   "provenance": []
  },
  "kernelspec": {
   "display_name": "Python 3 (ipykernel)",
   "language": "python",
   "name": "python3"
  },
  "language_info": {
   "codemirror_mode": {
    "name": "ipython",
    "version": 3
   },
   "file_extension": ".py",
   "mimetype": "text/x-python",
   "name": "python",
   "nbconvert_exporter": "python",
   "pygments_lexer": "ipython3",
   "version": "3.8.10"
  }
 },
 "nbformat": 4,
 "nbformat_minor": 0
}
